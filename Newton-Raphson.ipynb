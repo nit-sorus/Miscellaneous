{
 "cells": [
  {
   "cell_type": "code",
   "execution_count": 1,
   "id": "493f8b19",
   "metadata": {},
   "outputs": [],
   "source": [
    "import matplotlib.pyplot as plt\n",
    "\n",
    "import numpy as np\n",
    "\n",
    "#definition for Newton-Raphson Method\n",
    "\n",
    "def newton_raphson(fun,d_fun,guess, eps, max_iter):\n",
    "\n",
    "\n",
    "    xn=guess\n",
    "    for n in range(0,max_iter):\n",
    "        fxn=fun(xn)\n",
    "        if abs(fxn ) < eps: #Checks for solution\n",
    "            print(\"Found solution in \" +str(n)+ \" iterations \")\n",
    "            return (xn)\n",
    "        deriv_fxn=d_fun(xn)\n",
    "        if deriv_fxn==0:\n",
    "            print(\"Zero derivative. Hence no solution \")\n",
    "            return None\n",
    "        xn=xn-fxn/deriv_fxn # Formula for N-R method\n",
    "    else:\n",
    "        print(\"Exceeded maximum iteration \")\n",
    "\n",
    "    return None\n",
    "\n",
    "\n",
    "\n"
   ]
  },
  {
   "cell_type": "code",
   "execution_count": 3,
   "id": "58cb79b8",
   "metadata": {},
   "outputs": [
    {
     "name": "stdout",
     "output_type": "stream",
     "text": [
      "a: x^3-20=0\n",
      "b: x^(1/3)=0\n",
      "Enter the type of function you want to find root of: a\n"
     ]
    }
   ],
   "source": [
    "#Prompts for the choices\n",
    "print(\"a: x^3-20=0\")\n",
    "print(\"b: x^(1/3)=0\")\n",
    "\n",
    "choice= input(\"Enter the type of function you want to find root of: \")"
   ]
  },
  {
   "cell_type": "code",
   "execution_count": 6,
   "id": "7c1b8a14",
   "metadata": {},
   "outputs": [
    {
     "name": "stdout",
     "output_type": "stream",
     "text": [
      "Found solution in 7 iterations \n",
      "The value of the root is :  2.7144\n"
     ]
    },
    {
     "data": {
      "image/png": "[encoded data removed]",
      "text/plain": [
       "<Figure size 432x288 with 1 Axes>"
      ]
     },
     "metadata": {
      "needs_background": "light"
     },
     "output_type": "display_data"
    }
   ],
   "source": [
    "#Conditional statements to evaluate for roots\n",
    "\n",
    "#*****-------------******************\n",
    "\n",
    "# for the function: x^(1/3)=0\n",
    "if choice==\"b\":\n",
    "    fun=lambda x:x**(1/3)\n",
    "    d_fun= lambda x:(1/3)*x**(-2/3)\n",
    "    guess= 1\n",
    "    eps= 0.001\n",
    "    max_iter=10\n",
    "    result= newton_raphson(fun,d_fun,guess,eps,max_iter)\n",
    "\n",
    "    print(result)\n",
    "\n",
    "    #Plotting\n",
    "\n",
    "    x = np.linspace(0,5,100)\n",
    "# setting the corresponding y - coordinates\n",
    "    y = x**(1/3)\n",
    "\n",
    "    # potting the points\n",
    "    plt.plot(x, y)\n",
    "    plt.grid()\n",
    "    plt.ylabel('Y')\n",
    "    plt.xlabel('X')\n",
    "    plt.title(\"f(x)= x^(1/3) \")\n",
    "\n",
    "# function to show the plot\n",
    "    plt.show()\n",
    "\n",
    "#****---------------------*****\n",
    "#For function x^3-20 =0\n",
    "elif choice==\"a\":\n",
    "\n",
    "    fun= lambda x:x**3-20\n",
    "    d_fun=lambda x:3*x*x\n",
    "    guess= 1\n",
    "    eps= 0.001\n",
    "    max_iter=1000\n",
    "    result= newton_raphson(fun,d_fun,guess,eps,max_iter)\n",
    "\n",
    "    print(\"The value of the root is : \",\n",
    "                             \"%.4f\"% result)\n",
    "    #Plotting\n",
    "\n",
    "    x = np.linspace(0,5,100)\n",
    "# setting the corresponding y - coordinates\n",
    "    y = x**(3)-20\n",
    "\n",
    "    # potting the points\n",
    "    plt.plot(x, y)\n",
    "    plt.grid()\n",
    "    plt.ylabel('Y')\n",
    "    plt.xlabel('X')\n",
    "    plt.title(\"f(x)= x^(3)-20 \")\n",
    "\n",
    "# function to show the plot\n",
    "    plt.show()\n",
    "\n",
    "#****---------------------*****\n",
    "\n",
    "\n"
   ]
  },
  {
   "cell_type": "code",
   "execution_count": 5,
   "id": "1972aeeb",
   "metadata": {},
   "outputs": [
    {
     "ename": "SyntaxError",
     "evalue": "invalid syntax (3364918650.py, line 2)",
     "output_type": "error",
     "traceback": [
      "\u001b[0;36m  Input \u001b[0;32mIn [5]\u001b[0;36m\u001b[0m\n\u001b[0;31m    elif choice==\"a\":\u001b[0m\n\u001b[0m    ^\u001b[0m\n\u001b[0;31mSyntaxError\u001b[0m\u001b[0;31m:\u001b[0m invalid syntax\n"
     ]
    }
   ],
   "source": [
    "\n"
   ]
  },
  {
   "cell_type": "code",
   "execution_count": null,
   "id": "cc15eacc",
   "metadata": {},
   "outputs": [],
   "source": []
  }
 ],
 "metadata": {
  "kernelspec": {
   "display_name": "Python 3 (ipykernel)",
   "language": "python",
   "name": "python3"
  },
  "language_info": {
   "codemirror_mode": {
    "name": "ipython",
    "version": 3
   },
   "file_extension": ".py",
   "mimetype": "text/x-python",
   "name": "python",
   "nbconvert_exporter": "python",
   "pygments_lexer": "ipython3",
   "version": "3.10.6"
  }
 },
 "nbformat": 4,
 "nbformat_minor": 5
}
