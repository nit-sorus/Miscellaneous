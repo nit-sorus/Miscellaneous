{
 "cells": [
  {
   "cell_type": "markdown",
   "id": "cf28671f",
   "metadata": {},
   "source": [
    "## Machine Precision"
   ]
  },
  {
   "cell_type": "code",
   "execution_count": 3,
   "id": "71bd6860",
   "metadata": {},
   "outputs": [
    {
     "name": "stdout",
     "output_type": "stream",
     "text": [
      "2.220446049250313e-16\n"
     ]
    }
   ],
   "source": [
    "s=2\n",
    "while(s+1>1):\n",
    "    s=s/2\n",
    "precision=2*s\n",
    "print(precision)"
   ]
  },
  {
   "cell_type": "code",
   "execution_count": null,
   "id": "4bc5cc04",
   "metadata": {},
   "outputs": [],
   "source": []
  }
 ],
 "metadata": {
  "kernelspec": {
   "display_name": "Python 3 (ipykernel)",
   "language": "python",
   "name": "python3"
  },
  "language_info": {
   "codemirror_mode": {
    "name": "ipython",
    "version": 3
   },
   "file_extension": ".py",
   "mimetype": "text/x-python",
   "name": "python",
   "nbconvert_exporter": "python",
   "pygments_lexer": "ipython3",
   "version": "3.10.6"
  }
 },
 "nbformat": 4,
 "nbformat_minor": 5
}
