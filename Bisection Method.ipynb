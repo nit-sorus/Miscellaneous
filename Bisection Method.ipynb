{
 "cells": [
  {
   "cell_type": "markdown",
   "id": "0eeedc05",
   "metadata": {},
   "source": [
    "# Numerical Methods\n",
    "## Bisection Method"
   ]
  },
  {
   "cell_type": "code",
   "execution_count": 2,
   "id": "fb8da384",
   "metadata": {},
   "outputs": [],
   "source": [
    "#This code finds roots of the function x^3-20 =0 by Bisection method\n",
    "\n",
    "import matplotlib.pyplot as plt\n",
    "\n",
    "import numpy as np\n"
   ]
  },
  {
   "cell_type": "code",
   "execution_count": 3,
   "id": "efbe9a63",
   "metadata": {},
   "outputs": [],
   "source": [
    "\n",
    "\n",
    "def bisection(f,a,b,N):\n",
    "\n",
    "    if fun(a)*fun(b)>0:\n",
    "        print(\"Choose different values\")\n",
    "        return None\n",
    "\n",
    "\n",
    "    for n in range(1,N+1):\n",
    "        m = (a + b)/2\n",
    "        f_m_n = f(m)\n",
    "        if f(a)*f_m_n < 0:\n",
    "            b= m\n",
    "        elif f(b)*f_m_n < 0:\n",
    "            a = m\n",
    "        else:\n",
    "            print(\"Bisection method fails.\")\n",
    "            return None\n",
    "    return (a + b)/2\n",
    "\n",
    "\n",
    "\n",
    "\n",
    "\n"
   ]
  },
  {
   "cell_type": "code",
   "execution_count": 4,
   "id": "7b2a21eb",
   "metadata": {},
   "outputs": [
    {
     "name": "stdout",
     "output_type": "stream",
     "text": [
      "The value of root is :  2.7144\n"
     ]
    }
   ],
   "source": [
    "fun= lambda x:x**3-20\n",
    "a=1\n",
    "b=3\n",
    "N=25\n",
    "\n",
    "result= bisection(fun,a,b,N)\n",
    "print(\"The value of root is : \",\"%.4f\"%result)\n"
   ]
  },
  {
   "cell_type": "code",
   "execution_count": 5,
   "id": "106c7a1a",
   "metadata": {},
   "outputs": [
    {
     "data": {
      "image/png": "[encoded data removed]",
      "text/plain": [
       "<Figure size 432x288 with 1 Axes>"
      ]
     },
     "metadata": {
      "needs_background": "light"
     },
     "output_type": "display_data"
    }
   ],
   "source": [
    "\n",
    "#Plotting\n",
    "\n",
    "# setting the x - coordinates\n",
    "x = np.linspace(-5,5,100)\n",
    "\n",
    "# setting the corresponding y - coordinates\n",
    "y = x**3-20\n",
    "\n",
    "\n",
    "# setting the axes at the centre\n",
    "fig = plt.figure()\n",
    "ax = fig.add_subplot(1, 1, 1)\n",
    "ax.spines['left'].set_position('center')\n",
    "ax.spines['bottom'].set_position('center')\n",
    "ax.spines['right'].set_color('none')\n",
    "ax.spines['top'].set_color('none')\n",
    "ax.xaxis.set_ticks_position('bottom')\n",
    "ax.yaxis.set_ticks_position('left')\n",
    "\n",
    "# potting the points\n",
    "\n",
    "\n",
    "plt.plot(x, y)\n",
    "plt.grid()\n",
    "\n",
    "plt.title(\"f(x)= x^3-20\")\n",
    "\n",
    "# function to show the plot\n",
    "plt.show()"
   ]
  },
  {
   "cell_type": "code",
   "execution_count": null,
   "id": "6e35d7d5",
   "metadata": {},
   "outputs": [],
   "source": []
  }
 ],
 "metadata": {
  "kernelspec": {
   "display_name": "Python 3 (ipykernel)",
   "language": "python",
   "name": "python3"
  },
  "language_info": {
   "codemirror_mode": {
    "name": "ipython",
    "version": 3
   },
   "file_extension": ".py",
   "mimetype": "text/x-python",
   "name": "python",
   "nbconvert_exporter": "python",
   "pygments_lexer": "ipython3",
   "version": "3.10.6"
  }
 },
 "nbformat": 4,
 "nbformat_minor": 5
}
